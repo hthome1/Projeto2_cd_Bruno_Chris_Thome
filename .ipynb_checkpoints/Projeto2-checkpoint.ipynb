{
 "cells": [
  {
   "cell_type": "code",
   "execution_count": 3,
   "metadata": {},
   "outputs": [],
   "source": [
    "%matplotlib inline\n",
    "import pandas as pd\n",
    "import matplotlib.pyplot as plt\n",
    "import os\n",
    "import random\n",
    "from sklearn.model_selection import train_test_split"
   ]
  },
  {
   "cell_type": "code",
   "execution_count": 4,
   "metadata": {},
   "outputs": [],
   "source": [
    "dados = pd.read_excel('Spam.xlsx')"
   ]
  },
  {
   "cell_type": "markdown",
   "metadata": {},
   "source": [
    "### Separando o dataframe em 2, sendo 75% para o treino e 25% para o nosso programa avaliar"
   ]
  },
  {
   "cell_type": "code",
   "execution_count": 5,
   "metadata": {},
   "outputs": [
    {
     "data": {
      "text/html": [
       "<div>\n",
       "<style scoped>\n",
       "    .dataframe tbody tr th:only-of-type {\n",
       "        vertical-align: middle;\n",
       "    }\n",
       "\n",
       "    .dataframe tbody tr th {\n",
       "        vertical-align: top;\n",
       "    }\n",
       "\n",
       "    .dataframe thead th {\n",
       "        text-align: right;\n",
       "    }\n",
       "</style>\n",
       "<table border=\"1\" class=\"dataframe\">\n",
       "  <thead>\n",
       "    <tr style=\"text-align: right;\">\n",
       "      <th></th>\n",
       "      <th>Email</th>\n",
       "      <th>Class</th>\n",
       "    </tr>\n",
       "  </thead>\n",
       "  <tbody>\n",
       "    <tr>\n",
       "      <th>2778</th>\n",
       "      <td>Well I might not come then...</td>\n",
       "      <td>ham</td>\n",
       "    </tr>\n",
       "    <tr>\n",
       "      <th>3031</th>\n",
       "      <td>Jokin only lar... :-) depends on which phone m...</td>\n",
       "      <td>ham</td>\n",
       "    </tr>\n",
       "    <tr>\n",
       "      <th>3788</th>\n",
       "      <td>Are you sure you don't mean \\get here</td>\n",
       "      <td>ham</td>\n",
       "    </tr>\n",
       "    <tr>\n",
       "      <th>1169</th>\n",
       "      <td>Msgs r not time pass.They silently say that I ...</td>\n",
       "      <td>ham</td>\n",
       "    </tr>\n",
       "    <tr>\n",
       "      <th>4839</th>\n",
       "      <td>PRIVATE! Your 2003 Account Statement for shows...</td>\n",
       "      <td>spam</td>\n",
       "    </tr>\n",
       "  </tbody>\n",
       "</table>\n",
       "</div>"
      ],
      "text/plain": [
       "                                                  Email Class\n",
       "2778                      Well I might not come then...   ham\n",
       "3031  Jokin only lar... :-) depends on which phone m...   ham\n",
       "3788              Are you sure you don't mean \\get here   ham\n",
       "1169  Msgs r not time pass.They silently say that I ...   ham\n",
       "4839  PRIVATE! Your 2003 Account Statement for shows...  spam"
      ]
     },
     "execution_count": 5,
     "metadata": {},
     "output_type": "execute_result"
    }
   ],
   "source": [
    "trainingSet, testSet = train_test_split(dados, test_size = 0.25)\n",
    "trainingSet.head()"
   ]
  },
  {
   "cell_type": "markdown",
   "metadata": {},
   "source": [
    "### Separando o dataframe de treino entre spam e ham"
   ]
  },
  {
   "cell_type": "code",
   "execution_count": 84,
   "metadata": {},
   "outputs": [],
   "source": [
    "trainingset_spam = trainingSet.loc[trainingSet.Class=='spam']\n",
    "trainingset_ham = trainingSet.loc[trainingSet.Class=='ham']\n",
    "trainingSet_ham_final = trainingset_ham['Email']\n",
    "trainingSet_spam_final = trainingset_spam['Email']\n",
    "trainigSet_tudo = trainingSet['Email']"
   ]
  },
  {
   "cell_type": "code",
   "execution_count": 32,
   "metadata": {},
   "outputs": [],
   "source": [
    "def limpando_código (df):\n",
    "    new_df = df.values.tolist()\n",
    "    lista = []\n",
    "    for i in new_df:\n",
    "        lista.append(i.upper().split())\n",
    "    caracteres_especiais = ['!',',','?','.','#',' ','...','(',')','*','&','@','+','-','\"','<','>',\"'\"]\n",
    "    for e in range(0,len(lista)):\n",
    "        for i in lista[e]:\n",
    "            if i in caracteres_especiais:\n",
    "                lista[e].remove(i)\n",
    "    return lista"
   ]
  },
  {
   "cell_type": "code",
   "execution_count": 67,
   "metadata": {},
   "outputs": [],
   "source": [
    "#falta tirar os caracteres especiais que estao junto das palavras"
   ]
  },
  {
   "cell_type": "code",
   "execution_count": 68,
   "metadata": {},
   "outputs": [],
   "source": [
    "def dicionario (lista):\n",
    "    dicionario = {}\n",
    "    for e in lista:\n",
    "        for i in e:\n",
    "            if i not in dicionario:\n",
    "                dicionario[i] = 1\n",
    "            else:\n",
    "                dicionario[i] +=1\n",
    "    return dicionario"
   ]
  },
  {
   "cell_type": "code",
   "execution_count": 86,
   "metadata": {},
   "outputs": [],
   "source": [
    "dicionario_ham = dicionario(limpando_código(trainingSet_ham_final))\n",
    "dicionario_spam = dicionario(limpando_código(trainingSet_spam_final))\n",
    "dicionario_tudo = dicionario(limpando_código(trainigSet_tudo))"
   ]
  },
  {
   "cell_type": "code",
   "execution_count": 87,
   "metadata": {},
   "outputs": [],
   "source": [
    "total_palavras = len(dicionario_tudo)\n",
    "total_palavras_spam = len(dicionario_spam)\n",
    "total_palaveas_ham = len(dicionario_ham)"
   ]
  },
  {
   "cell_type": "code",
   "execution_count": 83,
   "metadata": {},
   "outputs": [],
   "source": [
    "def spam_ham(frase):\n",
    "    prob = 1\n",
    "    for e in frase:\n",
    "        prob*="
   ]
  },
  {
   "cell_type": "code",
   "execution_count": null,
   "metadata": {},
   "outputs": [],
   "source": [
    "gabrielvf@al.insper.edu.br"
   ]
  }
 ],
 "metadata": {
  "kernelspec": {
   "display_name": "Python 3",
   "language": "python",
   "name": "python3"
  },
  "language_info": {
   "codemirror_mode": {
    "name": "ipython",
    "version": 3
   },
   "file_extension": ".py",
   "mimetype": "text/x-python",
   "name": "python",
   "nbconvert_exporter": "python",
   "pygments_lexer": "ipython3",
   "version": "3.6.4"
  }
 },
 "nbformat": 4,
 "nbformat_minor": 2
}
